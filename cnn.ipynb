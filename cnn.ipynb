{
 "cells": [
  {
   "cell_type": "markdown",
   "metadata": {},
   "source": [
    "### Simple model for detecting hand written numbers"
   ]
  },
  {
   "cell_type": "code",
   "execution_count": 181,
   "metadata": {},
   "outputs": [],
   "source": [
    "import tensorflow\n",
    "import tensorflow_datasets as tfds\n",
    "from tensorflow.keras.utils import to_categorical\n",
    "from tensorflow.keras.models import Sequential\n",
    "from tensorflow.keras.layers import Dense\n",
    "from tensorflow.keras.layers import Dropout, BatchNormalization\n",
    "from tensorflow.keras.layers import Conv2D, MaxPooling2D, Flatten"
   ]
  },
  {
   "cell_type": "code",
   "execution_count": 218,
   "metadata": {},
   "outputs": [],
   "source": [
    "(x_train, y_train), (x_test, y_test) = tfds.load(name=\"mnist\", split=[tfds.Split.TRAIN, tfds.Split.TEST], batch_size=-1, as_supervised=True ) \n"
   ]
  },
  {
   "cell_type": "code",
   "execution_count": 219,
   "metadata": {},
   "outputs": [],
   "source": [
    "x_train = tfds.as_numpy(x_train).astype('float32')\n",
    "x_test = tfds.as_numpy(x_test).astype('float32')\n",
    "y_train = tfds.as_numpy(y_train).astype('float32')\n",
    "y_test = tfds.as_numpy(y_test).astype('float32')\n"
   ]
  },
  {
   "cell_type": "code",
   "execution_count": 220,
   "metadata": {},
   "outputs": [],
   "source": [
    "x_train /= 255.0\n",
    "x_test /=255.0"
   ]
  },
  {
   "cell_type": "code",
   "execution_count": 221,
   "metadata": {},
   "outputs": [],
   "source": [
    "n_classes = 10\n",
    "y_train = to_categorical(y_train, n_classes)\n",
    "y_test = to_categorical(y_test, n_classes)"
   ]
  },
  {
   "cell_type": "code",
   "execution_count": 222,
   "metadata": {},
   "outputs": [],
   "source": [
    "model = Sequential()\n",
    "model.add(Conv2D(32, kernel_size=(3,3), activation=tensorflow.nn.relu, input_shape=(28, 28, 1)))\n",
    "\n",
    "model.add(Conv2D(64, kernel_size=(3,3), activation=tensorflow.nn.relu))\n",
    "model.add(MaxPooling2D(pool_size=(2,2)))\n",
    "model.add(Dropout(0.25))\n",
    "model.add(Flatten())\n",
    "\n",
    "model.add(Dense(128, activation=tensorflow.nn.relu))\n",
    "model.add(Dropout(0.5))\n",
    "\n",
    "model.add(Dense(10, activation=tensorflow.nn.softmax))"
   ]
  },
  {
   "cell_type": "code",
   "execution_count": 225,
   "metadata": {},
   "outputs": [],
   "source": [
    "model.compile(loss='categorical_crossentropy', optimizer='nadam', metrics=['accuracy'])"
   ]
  },
  {
   "cell_type": "code",
   "execution_count": 226,
   "metadata": {},
   "outputs": [
    {
     "name": "stdout",
     "output_type": "stream",
     "text": [
      "Epoch 1/10\n"
     ]
    },
    {
     "name": "stderr",
     "output_type": "stream",
     "text": [
      "2022-10-08 19:19:54.004696: I tensorflow/core/grappler/optimizers/custom_graph_optimizer_registry.cc:114] Plugin optimizer for device_type GPU is enabled.\n"
     ]
    },
    {
     "name": "stdout",
     "output_type": "stream",
     "text": [
      "469/469 [==============================] - ETA: 0s - loss: 0.0325 - accuracy: 0.9898"
     ]
    },
    {
     "name": "stderr",
     "output_type": "stream",
     "text": [
      "2022-10-08 19:20:09.243565: I tensorflow/core/grappler/optimizers/custom_graph_optimizer_registry.cc:114] Plugin optimizer for device_type GPU is enabled.\n"
     ]
    },
    {
     "name": "stdout",
     "output_type": "stream",
     "text": [
      "469/469 [==============================] - 19s 38ms/step - loss: 0.0325 - accuracy: 0.9898 - val_loss: 0.0261 - val_accuracy: 0.9917\n",
      "Epoch 2/10\n",
      "469/469 [==============================] - 18s 37ms/step - loss: 0.0239 - accuracy: 0.9925 - val_loss: 0.0262 - val_accuracy: 0.9913\n",
      "Epoch 3/10\n",
      "469/469 [==============================] - 17s 37ms/step - loss: 0.0190 - accuracy: 0.9937 - val_loss: 0.0260 - val_accuracy: 0.9923\n",
      "Epoch 4/10\n",
      "469/469 [==============================] - 18s 38ms/step - loss: 0.0153 - accuracy: 0.9952 - val_loss: 0.0262 - val_accuracy: 0.9928\n",
      "Epoch 5/10\n",
      "469/469 [==============================] - 20s 44ms/step - loss: 0.0130 - accuracy: 0.9958 - val_loss: 0.0292 - val_accuracy: 0.9923\n",
      "Epoch 6/10\n",
      "469/469 [==============================] - 22s 47ms/step - loss: 0.0122 - accuracy: 0.9962 - val_loss: 0.0283 - val_accuracy: 0.9917\n",
      "Epoch 7/10\n",
      "469/469 [==============================] - 21s 45ms/step - loss: 0.0114 - accuracy: 0.9962 - val_loss: 0.0315 - val_accuracy: 0.9917\n",
      "Epoch 8/10\n",
      "469/469 [==============================] - 21s 44ms/step - loss: 0.0108 - accuracy: 0.9966 - val_loss: 0.0287 - val_accuracy: 0.9925\n",
      "Epoch 9/10\n",
      "469/469 [==============================] - 21s 44ms/step - loss: 0.0092 - accuracy: 0.9969 - val_loss: 0.0347 - val_accuracy: 0.9913\n",
      "Epoch 10/10\n",
      "469/469 [==============================] - 21s 44ms/step - loss: 0.0094 - accuracy: 0.9969 - val_loss: 0.0294 - val_accuracy: 0.9928\n"
     ]
    },
    {
     "data": {
      "text/plain": [
       "<keras.callbacks.History at 0x7fa123438790>"
      ]
     },
     "execution_count": 226,
     "metadata": {},
     "output_type": "execute_result"
    }
   ],
   "source": [
    "model.fit(x_train, y_train, batch_size=128, epochs=10, verbose=1, validation_data=(x_test, y_test))"
   ]
  },
  {
   "cell_type": "code",
   "execution_count": 227,
   "metadata": {},
   "outputs": [
    {
     "name": "stdout",
     "output_type": "stream",
     "text": [
      "313/313 [==============================] - 3s 10ms/step - loss: 0.0294 - accuracy: 0.9928\n"
     ]
    },
    {
     "data": {
      "text/plain": [
       "[0.029401415959000587, 0.9927999973297119]"
      ]
     },
     "execution_count": 227,
     "metadata": {},
     "output_type": "execute_result"
    }
   ],
   "source": [
    "model.evaluate(x_test, y_test)"
   ]
  }
 ],
 "metadata": {
  "kernelspec": {
   "display_name": "Python 3.8.8 ('amd_gpu3': conda)",
   "language": "python",
   "name": "python3"
  },
  "language_info": {
   "codemirror_mode": {
    "name": "ipython",
    "version": 3
   },
   "file_extension": ".py",
   "mimetype": "text/x-python",
   "name": "python",
   "nbconvert_exporter": "python",
   "pygments_lexer": "ipython3",
   "version": "3.8.8"
  },
  "orig_nbformat": 4,
  "vscode": {
   "interpreter": {
    "hash": "69fafd345c630262ff8877889b46aeb7598273535d0083a9d0eca9648e91c3aa"
   }
  }
 },
 "nbformat": 4,
 "nbformat_minor": 2
}
