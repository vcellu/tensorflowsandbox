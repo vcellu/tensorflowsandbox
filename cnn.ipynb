{
 "cells": [
  {
   "cell_type": "markdown",
   "metadata": {},
   "source": [
    "### Simple model for detecting hand written numbers"
   ]
  },
  {
   "cell_type": "code",
   "execution_count": 310,
   "metadata": {},
   "outputs": [],
   "source": [
    "import tensorflow\n",
    "import tensorflow_datasets as tfds\n",
    "from tensorflow.keras.utils import to_categorical\n",
    "from tensorflow.keras.models import Sequential\n",
    "from tensorflow.keras.layers import Dense\n",
    "from tensorflow.keras.layers import Dropout, BatchNormalization\n",
    "from tensorflow.keras.layers import Conv2D, MaxPooling2D, Flatten\n",
    "import matplotlib.pyplot as matlib\n",
    "import numpy as np"
   ]
  },
  {
   "cell_type": "code",
   "execution_count": 299,
   "metadata": {},
   "outputs": [],
   "source": [
    "(x_train, y_train), (x_test, y_test) = tfds.load(name=\"mnist\", split=[tfds.Split.TRAIN, tfds.Split.TEST], batch_size=-1, as_supervised=True ) \n"
   ]
  },
  {
   "cell_type": "code",
   "execution_count": 300,
   "metadata": {},
   "outputs": [],
   "source": [
    "x_train = tfds.as_numpy(x_train).astype('float32')\n",
    "x_test = tfds.as_numpy(x_test).astype('float32')\n",
    "y_train = tfds.as_numpy(y_train).astype('float32')\n",
    "y_test = tfds.as_numpy(y_test).astype('float32')\n"
   ]
  },
  {
   "cell_type": "code",
   "execution_count": 301,
   "metadata": {},
   "outputs": [],
   "source": [
    "x_train /= 255.0\n",
    "x_test /=255.0"
   ]
  },
  {
   "cell_type": "code",
   "execution_count": 302,
   "metadata": {},
   "outputs": [],
   "source": [
    "model = Sequential()\n",
    "model.add(Conv2D(32, kernel_size=(3,3), activation=tensorflow.nn.relu, input_shape=(28, 28, 1)))\n",
    "\n",
    "model.add(Conv2D(64, kernel_size=(3,3), activation=tensorflow.nn.relu))\n",
    "model.add(MaxPooling2D(pool_size=(2,2)))\n",
    "model.add(Dropout(0.25))\n",
    "model.add(Flatten())\n",
    "\n",
    "model.add(Dense(128, activation=tensorflow.nn.relu))\n",
    "model.add(Dropout(0.5))\n",
    "\n",
    "model.add(Dense(10, activation=tensorflow.nn.softmax))"
   ]
  },
  {
   "cell_type": "code",
   "execution_count": 303,
   "metadata": {},
   "outputs": [],
   "source": [
    "model.compile(loss='sparse_categorical_crossentropy', optimizer='nadam', metrics=['accuracy'])"
   ]
  },
  {
   "cell_type": "code",
   "execution_count": 304,
   "metadata": {},
   "outputs": [
    {
     "name": "stdout",
     "output_type": "stream",
     "text": [
      "Epoch 1/10\n"
     ]
    },
    {
     "name": "stderr",
     "output_type": "stream",
     "text": [
      "2022-10-08 20:07:32.725011: I tensorflow/core/grappler/optimizers/custom_graph_optimizer_registry.cc:114] Plugin optimizer for device_type GPU is enabled.\n"
     ]
    },
    {
     "name": "stdout",
     "output_type": "stream",
     "text": [
      "469/469 [==============================] - ETA: 0s - loss: 0.2129 - accuracy: 0.9351"
     ]
    },
    {
     "name": "stderr",
     "output_type": "stream",
     "text": [
      "2022-10-08 20:07:50.105753: I tensorflow/core/grappler/optimizers/custom_graph_optimizer_registry.cc:114] Plugin optimizer for device_type GPU is enabled.\n"
     ]
    },
    {
     "name": "stdout",
     "output_type": "stream",
     "text": [
      "469/469 [==============================] - 19s 37ms/step - loss: 0.2129 - accuracy: 0.9351 - val_loss: 0.0537 - val_accuracy: 0.9821\n",
      "Epoch 2/10\n",
      "469/469 [==============================] - 17s 36ms/step - loss: 0.0690 - accuracy: 0.9795 - val_loss: 0.0408 - val_accuracy: 0.9856\n",
      "Epoch 3/10\n",
      "469/469 [==============================] - 17s 36ms/step - loss: 0.0520 - accuracy: 0.9846 - val_loss: 0.0356 - val_accuracy: 0.9885\n",
      "Epoch 4/10\n",
      "469/469 [==============================] - 17s 36ms/step - loss: 0.0420 - accuracy: 0.9873 - val_loss: 0.0293 - val_accuracy: 0.9908\n",
      "Epoch 5/10\n",
      "469/469 [==============================] - 17s 37ms/step - loss: 0.0345 - accuracy: 0.9890 - val_loss: 0.0302 - val_accuracy: 0.9898\n",
      "Epoch 6/10\n",
      "469/469 [==============================] - 18s 39ms/step - loss: 0.0293 - accuracy: 0.9902 - val_loss: 0.0277 - val_accuracy: 0.9916\n",
      "Epoch 7/10\n",
      "469/469 [==============================] - 20s 43ms/step - loss: 0.0256 - accuracy: 0.9918 - val_loss: 0.0260 - val_accuracy: 0.9919\n",
      "Epoch 8/10\n",
      "469/469 [==============================] - 20s 43ms/step - loss: 0.0247 - accuracy: 0.9923 - val_loss: 0.0248 - val_accuracy: 0.9921\n",
      "Epoch 9/10\n",
      "469/469 [==============================] - 20s 42ms/step - loss: 0.0209 - accuracy: 0.9932 - val_loss: 0.0260 - val_accuracy: 0.9925\n",
      "Epoch 10/10\n",
      "469/469 [==============================] - 19s 42ms/step - loss: 0.0175 - accuracy: 0.9941 - val_loss: 0.0269 - val_accuracy: 0.9922\n"
     ]
    },
    {
     "data": {
      "text/plain": [
       "<keras.callbacks.History at 0x7fa131fa3160>"
      ]
     },
     "execution_count": 304,
     "metadata": {},
     "output_type": "execute_result"
    }
   ],
   "source": [
    "model.fit(x_train, y_train, batch_size=128, epochs=10, verbose=1, validation_data=(x_test, y_test))"
   ]
  },
  {
   "cell_type": "code",
   "execution_count": 305,
   "metadata": {},
   "outputs": [
    {
     "name": "stdout",
     "output_type": "stream",
     "text": [
      "313/313 [==============================] - 3s 10ms/step - loss: 0.0269 - accuracy: 0.9922\n"
     ]
    },
    {
     "data": {
      "text/plain": [
       "[0.02693825028836727, 0.9921999573707581]"
      ]
     },
     "execution_count": 305,
     "metadata": {},
     "output_type": "execute_result"
    }
   ],
   "source": [
    "model.evaluate(x_test, y_test)"
   ]
  },
  {
   "cell_type": "code",
   "execution_count": 320,
   "metadata": {},
   "outputs": [
    {
     "data": {
      "image/png": "[encoded data removed]",
      "text/plain": [
       "<Figure size 640x480 with 1 Axes>"
      ]
     },
     "metadata": {},
     "output_type": "display_data"
    }
   ],
   "source": [
    "imageAsArray = x_test[22].reshape(28, 28);\n",
    "matlib.imshow(imageAsArray, cmap='gray')\n",
    "matlib.show()"
   ]
  },
  {
   "cell_type": "code",
   "execution_count": 321,
   "metadata": {},
   "outputs": [
    {
     "name": "stdout",
     "output_type": "stream",
     "text": [
      "1/1 [==============================] - 0s 29ms/step\n"
     ]
    },
    {
     "data": {
      "text/plain": [
       "array([[1.8306008e-09, 9.1805381e-09, 6.1771135e-07, 9.9998426e-01,\n",
       "        2.7007680e-12, 1.4324953e-05, 3.1852253e-12, 1.4985364e-09,\n",
       "        9.8528673e-08, 6.9872766e-07]], dtype=float32)"
      ]
     },
     "execution_count": 321,
     "metadata": {},
     "output_type": "execute_result"
    }
   ],
   "source": [
    "valid_0 = x_test[22].reshape(1,28, 28, 1)\n",
    "p = model.predict(valid_0)\n",
    "p"
   ]
  },
  {
   "cell_type": "code",
   "execution_count": 322,
   "metadata": {},
   "outputs": [
    {
     "data": {
      "text/plain": [
       "(array([0]), array([3]))"
      ]
     },
     "execution_count": 322,
     "metadata": {},
     "output_type": "execute_result"
    }
   ],
   "source": [
    "result = np.where(p == np.amax(p))\n",
    "result"
   ]
  }
 ],
 "metadata": {
  "kernelspec": {
   "display_name": "Python 3.8.8 ('amd_gpu3': conda)",
   "language": "python",
   "name": "python3"
  },
  "language_info": {
   "codemirror_mode": {
    "name": "ipython",
    "version": 3
   },
   "file_extension": ".py",
   "mimetype": "text/x-python",
   "name": "python",
   "nbconvert_exporter": "python",
   "pygments_lexer": "ipython3",
   "version": "3.8.8"
  },
  "orig_nbformat": 4,
  "vscode": {
   "interpreter": {
    "hash": "69fafd345c630262ff8877889b46aeb7598273535d0083a9d0eca9648e91c3aa"
   }
  }
 },
 "nbformat": 4,
 "nbformat_minor": 2
}
